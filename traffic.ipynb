{
 "cells": [
  {
   "cell_type": "code",
   "execution_count": 127,
   "metadata": {},
   "outputs": [],
   "source": [
    "import matplotlib.pyplot as plt\n",
    "from PIL import Image\n",
    "import cv2\n",
    "import numpy as np\n",
    "import os\n",
    "from tqdm import tqdm\n",
    "from sklearn.model_selection import train_test_split\n",
    "from sklearn.metrics import mean_squared_error, classification_report, confusion_matrix, ConfusionMatrixDisplay\n",
    "from keras.applications.inception_v3 import preprocess_input\n",
    "from tensorflow.keras import models, layers, regularizers, utils\n",
    "from tensorflow import stack"
   ]
  },
  {
   "cell_type": "code",
   "execution_count": 41,
   "metadata": {},
   "outputs": [],
   "source": [
    "image_path = './gtsrb/0/00000_00000.ppm'"
   ]
  },
  {
   "cell_type": "code",
   "execution_count": 3,
   "metadata": {},
   "outputs": [
    {
     "data": {
      "text/plain": [
       "<matplotlib.image.AxesImage at 0x2c046f0e410>"
      ]
     },
     "execution_count": 3,
     "metadata": {},
     "output_type": "execute_result"
    },
    {
     "data": {
      "image/png": "[encoded data removed]",
      "text/plain": [
       "<Figure size 700x700 with 1 Axes>"
      ]
     },
     "metadata": {},
     "output_type": "display_data"
    }
   ],
   "source": [
    "img = Image.open(image_path)\n",
    "plt.figure(figsize=(7, 7))\n",
    "plt.imshow(img)"
   ]
  },
  {
   "cell_type": "code",
   "execution_count": 76,
   "metadata": {},
   "outputs": [],
   "source": [
    "# Image embedding thành vector (2048, )\n",
    "def encode(image, IMG_WIDTH=30, IMG_HEIGHT=30):\n",
    "    # Convert all the images to size 299x299 as expected by the inception v3 model\n",
    "    img = cv2.resize(image, (IMG_WIDTH, IMG_HEIGHT))\n",
    "    return img"
   ]
  },
  {
   "cell_type": "code",
   "execution_count": 69,
   "metadata": {},
   "outputs": [],
   "source": [
    "def load_data(data_dir):\n",
    "    \"\"\"\n",
    "    Load image data from directory `data_dir`.\n",
    "\n",
    "    Assume `data_dir` has one directory named after each category, numbered\n",
    "    0 through NUM_CATEGORIES - 1. Inside each category directory will be some\n",
    "    number of image files.\n",
    "\n",
    "    Return tuple `(images, labels)`. `images` should be a list of all\n",
    "    of the images in the data directory, where each image is formatted as a\n",
    "    numpy ndarray with dimensions IMG_WIDTH x IMG_HEIGHT x 3. `labels` should\n",
    "    be a list of integer labels, representing the categories for each of the\n",
    "    corresponding `images`.\n",
    "    \"\"\"\n",
    "\n",
    "    images = []\n",
    "    labels = []\n",
    "    # Path to data folder\n",
    "    data_path = os.path.join(data_dir)\n",
    "\n",
    "    # Number of subdirectories/labels\n",
    "    number_of_labels = 0\n",
    "\n",
    "    for i in os.listdir(data_path):\n",
    "        number_of_labels += 1\n",
    "\n",
    "    # Loop through the subdirectories\n",
    "    for sub in range(number_of_labels):\n",
    "        sub_folder = os.path.join(data_path, str(sub))\n",
    "        print(sub_folder)\n",
    "        \n",
    "        images_in_subfolder = []\n",
    "\n",
    "        for image in os.listdir(sub_folder):\n",
    "            images_in_subfolder.append(image)\n",
    "\n",
    "        images_in_subfolder_path = os.path.join(data_path, str(sub))\n",
    "        \n",
    "        for image in tqdm(os.listdir(images_in_subfolder_path)):\n",
    "            img_arr = cv2.imread(f'{sub_folder}\\\\{image}')   \n",
    "            img = cv2.cvtColor(img_arr, cv2.COLOR_BGR2RGB)\n",
    "            img = encode(img)\n",
    "            images.append(img)\n",
    "            labels.append(sub)\n",
    "            \n",
    "    return images, labels"
   ]
  },
  {
   "cell_type": "code",
   "execution_count": 106,
   "metadata": {},
   "outputs": [],
   "source": [
    "IMG_WIDTH=30\n",
    "IMG_HEIGHT=30\n",
    "CLASS_NUM = 43\n",
    "\n",
    "def get_model():\n",
    "    \"\"\"\n",
    "    Returns a compiled convolutional neural network model. Assume that the\n",
    "    `input_shape` of the first layer is `(IMG_WIDTH, IMG_HEIGHT, 3)`.\n",
    "    The output layer should have `NUM_CATEGORIES` units, one for each category.\n",
    "    \"\"\"\n",
    "\n",
    "    model = models.Sequential([\n",
    "        layers.Rescaling(1./255, input_shape=(IMG_HEIGHT, IMG_WIDTH, 3)),\n",
    "        # layers.ZeroPadding2D(padding=(2,2)),\n",
    "        \n",
    "        layers.Conv2D(16, (7,7), strides=(2, 2), padding='same'),\n",
    "        layers.Activation('relu'),\n",
    "        layers.MaxPooling2D(pool_size=(3, 3), strides=(2, 2)),\n",
    "        \n",
    "        # layers.ZeroPadding2D(padding=(2,2)),\n",
    "        layers.Conv2D(42, (5, 5), strides=(1, 1), padding='same'),\n",
    "        layers.Activation('relu'),\n",
    "        layers.MaxPooling2D(pool_size=(3, 3), strides=(2, 2)),\n",
    "        \n",
    "        layers.Conv2D(64, (3, 3), strides=(1, 1), padding='same'),\n",
    "        layers.Activation('relu'),\n",
    "        # layers.MaxPooling2D(pool_size=(3, 3), strides=(2, 2)),\n",
    "\n",
    "        layers.Conv2D(42, (3, 3), strides=(1, 1), padding='same'),\n",
    "        layers.Activation('relu'),\n",
    "        # layers.MaxPooling2D(pool_size=(3, 3), strides=(2, 2)),\n",
    "\n",
    "        layers.Conv2D(42, (3, 3), strides=(1, 1), padding='same'),\n",
    "        layers.Activation('relu'),\n",
    "        layers.MaxPooling2D(pool_size=(3, 3), strides=(2, 2)),\n",
    "        \n",
    "        # layers.Conv2D(36, (3, 3), strides=(2, 2), padding='same'),\n",
    "        # layers.BatchNormalization(),\n",
    "        # layers.Activation('relu'),\n",
    "\n",
    "        # # layers.Conv2D(64, (3, 3), strides=(2, 2), padding='same'),\n",
    "        # # layers.BatchNormalization(),\n",
    "        # # layers.Activation('relu'),\n",
    "        # layers.Dropout(0.25),\n",
    "        \n",
    "        layers.Flatten(),\n",
    "        layers.Dense(120, activation='relu'),\n",
    "        layers.Dropout(0.25),\n",
    "        layers.Dense(120, activation='relu'),\n",
    "        layers.Dropout(0.25),\n",
    "        layers.Dense(64, activation='relu'),\n",
    "        layers.Dropout(0.25),\n",
    "\n",
    "        # layers.Dense(128, activation='relu'),\n",
    "        # layers.Dropout(0.25),\n",
    "        \n",
    "        # layers.Dense(128, activation='relu'),\n",
    "        # layers.Dropout(0.25),\n",
    "        \n",
    "        layers.Dense(CLASS_NUM, activation='softmax', kernel_regularizer=regularizers.l2(l2=0.001))\n",
    "    ])\n",
    "\n",
    "    model.compile(\n",
    "        optimizer=\"adam\",\n",
    "        loss=\"categorical_crossentropy\",\n",
    "        metrics=[\"accuracy\"]\n",
    "    )\n",
    "    \n",
    "    return model"
   ]
  },
  {
   "cell_type": "code",
   "execution_count": 77,
   "metadata": {},
   "outputs": [
    {
     "name": "stdout",
     "output_type": "stream",
     "text": [
      "gtsrb\\0\n"
     ]
    },
    {
     "name": "stderr",
     "output_type": "stream",
     "text": [
      "100%|██████████| 150/150 [00:00<00:00, 3953.56it/s]\n"
     ]
    },
    {
     "name": "stdout",
     "output_type": "stream",
     "text": [
      "gtsrb\\1\n"
     ]
    },
    {
     "name": "stderr",
     "output_type": "stream",
     "text": [
      "100%|██████████| 1500/1500 [00:00<00:00, 6880.81it/s]\n"
     ]
    },
    {
     "name": "stdout",
     "output_type": "stream",
     "text": [
      "gtsrb\\2\n"
     ]
    },
    {
     "name": "stderr",
     "output_type": "stream",
     "text": [
      "100%|██████████| 1500/1500 [00:00<00:00, 4807.69it/s]\n"
     ]
    },
    {
     "name": "stdout",
     "output_type": "stream",
     "text": [
      "gtsrb\\3\n"
     ]
    },
    {
     "name": "stderr",
     "output_type": "stream",
     "text": [
      "100%|██████████| 960/960 [00:00<00:00, 5748.53it/s]\n"
     ]
    },
    {
     "name": "stdout",
     "output_type": "stream",
     "text": [
      "gtsrb\\4\n"
     ]
    },
    {
     "name": "stderr",
     "output_type": "stream",
     "text": [
      "100%|██████████| 1320/1320 [00:00<00:00, 6502.62it/s]\n"
     ]
    },
    {
     "name": "stdout",
     "output_type": "stream",
     "text": [
      "gtsrb\\5\n"
     ]
    },
    {
     "name": "stderr",
     "output_type": "stream",
     "text": [
      "100%|██████████| 1260/1260 [00:00<00:00, 4228.23it/s]\n"
     ]
    },
    {
     "name": "stdout",
     "output_type": "stream",
     "text": [
      "gtsrb\\6\n"
     ]
    },
    {
     "name": "stderr",
     "output_type": "stream",
     "text": [
      "100%|██████████| 300/300 [00:00<00:00, 4285.21it/s]\n"
     ]
    },
    {
     "name": "stdout",
     "output_type": "stream",
     "text": [
      "gtsrb\\7\n"
     ]
    },
    {
     "name": "stderr",
     "output_type": "stream",
     "text": [
      "100%|██████████| 960/960 [00:00<00:00, 5303.87it/s]\n"
     ]
    },
    {
     "name": "stdout",
     "output_type": "stream",
     "text": [
      "gtsrb\\8\n"
     ]
    },
    {
     "name": "stderr",
     "output_type": "stream",
     "text": [
      "100%|██████████| 960/960 [00:00<00:00, 5549.20it/s]\n"
     ]
    },
    {
     "name": "stdout",
     "output_type": "stream",
     "text": [
      "gtsrb\\9\n"
     ]
    },
    {
     "name": "stderr",
     "output_type": "stream",
     "text": [
      "100%|██████████| 990/990 [00:00<00:00, 6688.92it/s]\n"
     ]
    },
    {
     "name": "stdout",
     "output_type": "stream",
     "text": [
      "gtsrb\\10\n"
     ]
    },
    {
     "name": "stderr",
     "output_type": "stream",
     "text": [
      "100%|██████████| 1350/1350 [00:00<00:00, 7258.01it/s]\n"
     ]
    },
    {
     "name": "stdout",
     "output_type": "stream",
     "text": [
      "gtsrb\\11\n"
     ]
    },
    {
     "name": "stderr",
     "output_type": "stream",
     "text": [
      "100%|██████████| 900/900 [00:00<00:00, 5588.91it/s]\n"
     ]
    },
    {
     "name": "stdout",
     "output_type": "stream",
     "text": [
      "gtsrb\\12\n"
     ]
    },
    {
     "name": "stderr",
     "output_type": "stream",
     "text": [
      "100%|██████████| 1410/1410 [00:00<00:00, 7121.29it/s]\n"
     ]
    },
    {
     "name": "stdout",
     "output_type": "stream",
     "text": [
      "gtsrb\\13\n"
     ]
    },
    {
     "name": "stderr",
     "output_type": "stream",
     "text": [
      "100%|██████████| 1440/1440 [00:00<00:00, 7092.39it/s]\n"
     ]
    },
    {
     "name": "stdout",
     "output_type": "stream",
     "text": [
      "gtsrb\\14\n"
     ]
    },
    {
     "name": "stderr",
     "output_type": "stream",
     "text": [
      "100%|██████████| 540/540 [00:00<00:00, 2534.84it/s]\n"
     ]
    },
    {
     "name": "stdout",
     "output_type": "stream",
     "text": [
      "gtsrb\\15\n"
     ]
    },
    {
     "name": "stderr",
     "output_type": "stream",
     "text": [
      "100%|██████████| 420/420 [00:00<00:00, 5250.26it/s]\n"
     ]
    },
    {
     "name": "stdout",
     "output_type": "stream",
     "text": [
      "gtsrb\\16\n"
     ]
    },
    {
     "name": "stderr",
     "output_type": "stream",
     "text": [
      "100%|██████████| 300/300 [00:00<00:00, 2856.78it/s]\n"
     ]
    },
    {
     "name": "stdout",
     "output_type": "stream",
     "text": [
      "gtsrb\\17\n"
     ]
    },
    {
     "name": "stderr",
     "output_type": "stream",
     "text": [
      "100%|██████████| 750/750 [00:00<00:00, 5395.80it/s]\n"
     ]
    },
    {
     "name": "stdout",
     "output_type": "stream",
     "text": [
      "gtsrb\\18\n"
     ]
    },
    {
     "name": "stderr",
     "output_type": "stream",
     "text": [
      "100%|██████████| 810/810 [00:00<00:00, 5785.80it/s]\n"
     ]
    },
    {
     "name": "stdout",
     "output_type": "stream",
     "text": [
      "gtsrb\\19\n"
     ]
    },
    {
     "name": "stderr",
     "output_type": "stream",
     "text": [
      "100%|██████████| 150/150 [00:00<00:00, 3409.06it/s]\n"
     ]
    },
    {
     "name": "stdout",
     "output_type": "stream",
     "text": [
      "gtsrb\\20\n"
     ]
    },
    {
     "name": "stderr",
     "output_type": "stream",
     "text": [
      "100%|██████████| 240/240 [00:00<00:00, 1919.95it/s]\n"
     ]
    },
    {
     "name": "stdout",
     "output_type": "stream",
     "text": [
      "gtsrb\\21\n"
     ]
    },
    {
     "name": "stderr",
     "output_type": "stream",
     "text": [
      "100%|██████████| 240/240 [00:00<00:00, 5581.49it/s]\n"
     ]
    },
    {
     "name": "stdout",
     "output_type": "stream",
     "text": [
      "gtsrb\\22\n"
     ]
    },
    {
     "name": "stderr",
     "output_type": "stream",
     "text": [
      "100%|██████████| 270/270 [00:00<00:00, 5399.85it/s]\n"
     ]
    },
    {
     "name": "stdout",
     "output_type": "stream",
     "text": [
      "gtsrb\\23\n"
     ]
    },
    {
     "name": "stderr",
     "output_type": "stream",
     "text": [
      "100%|██████████| 360/360 [00:00<00:00, 3913.09it/s]\n"
     ]
    },
    {
     "name": "stdout",
     "output_type": "stream",
     "text": [
      "gtsrb\\24\n"
     ]
    },
    {
     "name": "stderr",
     "output_type": "stream",
     "text": [
      "100%|██████████| 180/180 [00:00<00:00, 4186.05it/s]\n"
     ]
    },
    {
     "name": "stdout",
     "output_type": "stream",
     "text": [
      "gtsrb\\25\n"
     ]
    },
    {
     "name": "stderr",
     "output_type": "stream",
     "text": [
      "100%|██████████| 1020/1020 [00:00<00:00, 4377.77it/s]\n"
     ]
    },
    {
     "name": "stdout",
     "output_type": "stream",
     "text": [
      "gtsrb\\26\n"
     ]
    },
    {
     "name": "stderr",
     "output_type": "stream",
     "text": [
      "100%|██████████| 420/420 [00:00<00:00, 5000.09it/s]\n"
     ]
    },
    {
     "name": "stdout",
     "output_type": "stream",
     "text": [
      "gtsrb\\27\n"
     ]
    },
    {
     "name": "stderr",
     "output_type": "stream",
     "text": [
      "100%|██████████| 180/180 [00:00<00:00, 4736.26it/s]\n"
     ]
    },
    {
     "name": "stdout",
     "output_type": "stream",
     "text": [
      "gtsrb\\28\n"
     ]
    },
    {
     "name": "stderr",
     "output_type": "stream",
     "text": [
      "100%|██████████| 360/360 [00:00<00:00, 3302.87it/s]\n"
     ]
    },
    {
     "name": "stdout",
     "output_type": "stream",
     "text": [
      "gtsrb\\29\n"
     ]
    },
    {
     "name": "stderr",
     "output_type": "stream",
     "text": [
      "100%|██████████| 180/180 [00:00<00:00, 2571.36it/s]\n"
     ]
    },
    {
     "name": "stdout",
     "output_type": "stream",
     "text": [
      "gtsrb\\30\n"
     ]
    },
    {
     "name": "stderr",
     "output_type": "stream",
     "text": [
      "100%|██████████| 300/300 [00:00<00:00, 1554.42it/s]\n"
     ]
    },
    {
     "name": "stdout",
     "output_type": "stream",
     "text": [
      "gtsrb\\31\n"
     ]
    },
    {
     "name": "stderr",
     "output_type": "stream",
     "text": [
      "100%|██████████| 540/540 [00:00<00:00, 4537.91it/s]\n"
     ]
    },
    {
     "name": "stdout",
     "output_type": "stream",
     "text": [
      "gtsrb\\32\n"
     ]
    },
    {
     "name": "stderr",
     "output_type": "stream",
     "text": [
      "100%|██████████| 180/180 [00:00<00:00, 5625.37it/s]\n"
     ]
    },
    {
     "name": "stdout",
     "output_type": "stream",
     "text": [
      "gtsrb\\33\n"
     ]
    },
    {
     "name": "stderr",
     "output_type": "stream",
     "text": [
      "100%|██████████| 480/480 [00:00<00:00, 3221.48it/s]\n"
     ]
    },
    {
     "name": "stdout",
     "output_type": "stream",
     "text": [
      "gtsrb\\34\n"
     ]
    },
    {
     "name": "stderr",
     "output_type": "stream",
     "text": [
      "100%|██████████| 300/300 [00:00<00:00, 3750.07it/s]\n"
     ]
    },
    {
     "name": "stdout",
     "output_type": "stream",
     "text": [
      "gtsrb\\35\n"
     ]
    },
    {
     "name": "stderr",
     "output_type": "stream",
     "text": [
      "100%|██████████| 810/810 [00:00<00:00, 5126.62it/s]\n"
     ]
    },
    {
     "name": "stdout",
     "output_type": "stream",
     "text": [
      "gtsrb\\36\n"
     ]
    },
    {
     "name": "stderr",
     "output_type": "stream",
     "text": [
      "100%|██████████| 270/270 [00:00<00:00, 4355.15it/s]\n"
     ]
    },
    {
     "name": "stdout",
     "output_type": "stream",
     "text": [
      "gtsrb\\37\n"
     ]
    },
    {
     "name": "stderr",
     "output_type": "stream",
     "text": [
      "100%|██████████| 150/150 [00:00<00:00, 3060.95it/s]\n"
     ]
    },
    {
     "name": "stdout",
     "output_type": "stream",
     "text": [
      "gtsrb\\38\n"
     ]
    },
    {
     "name": "stderr",
     "output_type": "stream",
     "text": [
      "100%|██████████| 1380/1380 [00:00<00:00, 4758.63it/s]\n"
     ]
    },
    {
     "name": "stdout",
     "output_type": "stream",
     "text": [
      "gtsrb\\39\n"
     ]
    },
    {
     "name": "stderr",
     "output_type": "stream",
     "text": [
      "100%|██████████| 210/210 [00:00<00:00, 2877.00it/s]\n"
     ]
    },
    {
     "name": "stdout",
     "output_type": "stream",
     "text": [
      "gtsrb\\40\n"
     ]
    },
    {
     "name": "stderr",
     "output_type": "stream",
     "text": [
      "100%|██████████| 240/240 [00:00<00:00, 3117.01it/s]\n"
     ]
    },
    {
     "name": "stdout",
     "output_type": "stream",
     "text": [
      "gtsrb\\41\n"
     ]
    },
    {
     "name": "stderr",
     "output_type": "stream",
     "text": [
      "100%|██████████| 180/180 [00:00<00:00, 2686.48it/s]\n"
     ]
    },
    {
     "name": "stdout",
     "output_type": "stream",
     "text": [
      "gtsrb\\42\n"
     ]
    },
    {
     "name": "stderr",
     "output_type": "stream",
     "text": [
      "100%|██████████| 180/180 [00:00<00:00, 3103.61it/s]\n"
     ]
    }
   ],
   "source": [
    "images, labels = load_data('gtsrb')"
   ]
  },
  {
   "cell_type": "code",
   "execution_count": 82,
   "metadata": {},
   "outputs": [
    {
     "name": "stdout",
     "output_type": "stream",
     "text": [
      "(30, 30, 3)\n",
      "một hình ví dụ:  0\n"
     ]
    },
    {
     "data": {
      "text/plain": [
       "<matplotlib.image.AxesImage at 0x1bcacec1390>"
      ]
     },
     "execution_count": 82,
     "metadata": {},
     "output_type": "execute_result"
    },
    {
     "data": {
      "image/png": "[encoded data removed]",
      "text/plain": [
       "<Figure size 640x480 with 1 Axes>"
      ]
     },
     "metadata": {},
     "output_type": "display_data"
    }
   ],
   "source": [
    "index = 1\n",
    "print(images[index].shape)\n",
    "print(\"một hình ví dụ: \", labels[index])\n",
    "img = Image.fromarray(images[index], 'RGB')\n",
    "plt.imshow(img)"
   ]
  },
  {
   "cell_type": "code",
   "execution_count": 135,
   "metadata": {},
   "outputs": [],
   "source": [
    "X_train, X_test, y_train, y_test = train_test_split(np.array(images), labels, test_size=0.3, random_state=123)\n",
    "\n",
    "y_train = utils.to_categorical(labels, num_classes=CLASS_NUM)"
   ]
  },
  {
   "cell_type": "code",
   "execution_count": 136,
   "metadata": {},
   "outputs": [
    {
     "name": "stdout",
     "output_type": "stream",
     "text": [
      "Hình dạng của tập images (18648, 30, 30, 3)\n",
      "[[[163 172 152]\n",
      "  [ 92 104  86]\n",
      "  [ 73  86  74]\n",
      "  ...\n",
      "  [ 90  93  81]\n",
      "  [ 90  83  74]\n",
      "  [ 86  67  62]]\n",
      "\n",
      " [[186 191 167]\n",
      "  [100 111  81]\n",
      "  [ 71  86  73]\n",
      "  ...\n",
      "  [ 88  99  83]\n",
      "  [ 74  82  65]\n",
      "  [ 69  65  59]]\n",
      "\n",
      " [[139 148 120]\n",
      "  [ 97 110  82]\n",
      "  [ 69  84  71]\n",
      "  ...\n",
      "  [ 62  76  59]\n",
      "  [ 48  62  39]\n",
      "  [ 52  57  48]]\n",
      "\n",
      " ...\n",
      "\n",
      " [[ 66  67  70]\n",
      "  [ 65  64  68]\n",
      "  [ 73  70  76]\n",
      "  ...\n",
      "  [203 175 218]\n",
      "  [139 130 152]\n",
      "  [133 146 166]]\n",
      "\n",
      " [[ 68  67  72]\n",
      "  [ 65  62  74]\n",
      "  [ 73  71  79]\n",
      "  ...\n",
      "  [251 211 242]\n",
      "  [206 182 197]\n",
      "  [154 153 167]]\n",
      "\n",
      " [[ 66  67  77]\n",
      "  [ 62  62  83]\n",
      "  [ 72  72  83]\n",
      "  ...\n",
      "  [255 249 254]\n",
      "  [224 210 208]\n",
      "  [164 156 160]]]\n"
     ]
    }
   ],
   "source": [
    "print(\"Hình dạng của tập images\", X_train.shape)\n",
    "print(X_train[0])"
   ]
  },
  {
   "cell_type": "code",
   "execution_count": 113,
   "metadata": {},
   "outputs": [
    {
     "name": "stdout",
     "output_type": "stream",
     "text": [
      "Hình dạng của tập label (18648, 43)\n",
      "[[0. 0. 0. 0. 0. 0. 0. 0. 0. 1. 0. 0. 0. 0. 0. 0. 0. 0. 0. 0. 0. 0. 0. 0.\n",
      "  0. 0. 0. 0. 0. 0. 0. 0. 0. 0. 0. 0. 0. 0. 0. 0. 0. 0. 0.]\n",
      " [0. 0. 0. 0. 0. 0. 0. 0. 0. 0. 1. 0. 0. 0. 0. 0. 0. 0. 0. 0. 0. 0. 0. 0.\n",
      "  0. 0. 0. 0. 0. 0. 0. 0. 0. 0. 0. 0. 0. 0. 0. 0. 0. 0. 0.]\n",
      " [0. 0. 0. 0. 0. 0. 0. 0. 0. 0. 0. 0. 0. 0. 0. 0. 0. 0. 0. 0. 0. 0. 0. 0.\n",
      "  0. 0. 0. 0. 0. 1. 0. 0. 0. 0. 0. 0. 0. 0. 0. 0. 0. 0. 0.]]\n"
     ]
    }
   ],
   "source": [
    "print(\"Hình dạng của tập label\", y_train.shape)\n",
    "print(y_train[0:3])"
   ]
  },
  {
   "cell_type": "code",
   "execution_count": 114,
   "metadata": {},
   "outputs": [
    {
     "name": "stderr",
     "output_type": "stream",
     "text": [
      "d:\\Programming\\Trafficsign\\.venv\\Lib\\site-packages\\keras\\src\\layers\\preprocessing\\tf_data_layer.py:18: UserWarning: Do not pass an `input_shape`/`input_dim` argument to a layer. When using Sequential models, prefer using an `Input(shape)` object as the first layer in the model instead.\n",
      "  super().__init__(**kwargs)\n"
     ]
    }
   ],
   "source": [
    "lenet_model = get_model()"
   ]
  },
  {
   "cell_type": "code",
   "execution_count": 116,
   "metadata": {},
   "outputs": [
    {
     "name": "stdout",
     "output_type": "stream",
     "text": [
      "Epoch 1/15\n",
      "\u001b[1m292/292\u001b[0m \u001b[32m━━━━━━━━━━━━━━━━━━━━\u001b[0m\u001b[37m\u001b[0m \u001b[1m4s\u001b[0m 14ms/step - accuracy: 0.8609 - loss: 0.4441\n",
      "Epoch 2/15\n",
      "\u001b[1m292/292\u001b[0m \u001b[32m━━━━━━━━━━━━━━━━━━━━\u001b[0m\u001b[37m\u001b[0m \u001b[1m4s\u001b[0m 15ms/step - accuracy: 0.8805 - loss: 0.4023\n",
      "Epoch 3/15\n",
      "\u001b[1m292/292\u001b[0m \u001b[32m━━━━━━━━━━━━━━━━━━━━\u001b[0m\u001b[37m\u001b[0m \u001b[1m5s\u001b[0m 16ms/step - accuracy: 0.9020 - loss: 0.3335\n",
      "Epoch 4/15\n",
      "\u001b[1m292/292\u001b[0m \u001b[32m━━━━━━━━━━━━━━━━━━━━\u001b[0m\u001b[37m\u001b[0m \u001b[1m5s\u001b[0m 15ms/step - accuracy: 0.9112 - loss: 0.3062\n",
      "Epoch 5/15\n",
      "\u001b[1m292/292\u001b[0m \u001b[32m━━━━━━━━━━━━━━━━━━━━\u001b[0m\u001b[37m\u001b[0m \u001b[1m4s\u001b[0m 15ms/step - accuracy: 0.9126 - loss: 0.3100\n",
      "Epoch 6/15\n",
      "\u001b[1m292/292\u001b[0m \u001b[32m━━━━━━━━━━━━━━━━━━━━\u001b[0m\u001b[37m\u001b[0m \u001b[1m4s\u001b[0m 15ms/step - accuracy: 0.9321 - loss: 0.2373\n",
      "Epoch 7/15\n",
      "\u001b[1m292/292\u001b[0m \u001b[32m━━━━━━━━━━━━━━━━━━━━\u001b[0m\u001b[37m\u001b[0m \u001b[1m5s\u001b[0m 15ms/step - accuracy: 0.9350 - loss: 0.2301\n",
      "Epoch 8/15\n",
      "\u001b[1m292/292\u001b[0m \u001b[32m━━━━━━━━━━━━━━━━━━━━\u001b[0m\u001b[37m\u001b[0m \u001b[1m4s\u001b[0m 15ms/step - accuracy: 0.9452 - loss: 0.2052\n",
      "Epoch 9/15\n",
      "\u001b[1m292/292\u001b[0m \u001b[32m━━━━━━━━━━━━━━━━━━━━\u001b[0m\u001b[37m\u001b[0m \u001b[1m5s\u001b[0m 15ms/step - accuracy: 0.9448 - loss: 0.2171\n",
      "Epoch 10/15\n",
      "\u001b[1m292/292\u001b[0m \u001b[32m━━━━━━━━━━━━━━━━━━━━\u001b[0m\u001b[37m\u001b[0m \u001b[1m4s\u001b[0m 15ms/step - accuracy: 0.9537 - loss: 0.1763\n",
      "Epoch 11/15\n",
      "\u001b[1m292/292\u001b[0m \u001b[32m━━━━━━━━━━━━━━━━━━━━\u001b[0m\u001b[37m\u001b[0m \u001b[1m5s\u001b[0m 16ms/step - accuracy: 0.9525 - loss: 0.1831\n",
      "Epoch 12/15\n",
      "\u001b[1m292/292\u001b[0m \u001b[32m━━━━━━━━━━━━━━━━━━━━\u001b[0m\u001b[37m\u001b[0m \u001b[1m4s\u001b[0m 15ms/step - accuracy: 0.9464 - loss: 0.2022\n",
      "Epoch 13/15\n",
      "\u001b[1m292/292\u001b[0m \u001b[32m━━━━━━━━━━━━━━━━━━━━\u001b[0m\u001b[37m\u001b[0m \u001b[1m5s\u001b[0m 17ms/step - accuracy: 0.9541 - loss: 0.1809\n",
      "Epoch 14/15\n",
      "\u001b[1m292/292\u001b[0m \u001b[32m━━━━━━━━━━━━━━━━━━━━\u001b[0m\u001b[37m\u001b[0m \u001b[1m5s\u001b[0m 17ms/step - accuracy: 0.9665 - loss: 0.1407\n",
      "Epoch 15/15\n",
      "\u001b[1m292/292\u001b[0m \u001b[32m━━━━━━━━━━━━━━━━━━━━\u001b[0m\u001b[37m\u001b[0m \u001b[1m5s\u001b[0m 16ms/step - accuracy: 0.9510 - loss: 0.2125\n"
     ]
    },
    {
     "data": {
      "text/plain": [
       "<keras.src.callbacks.history.History at 0x1bd89b3d990>"
      ]
     },
     "execution_count": 116,
     "metadata": {},
     "output_type": "execute_result"
    }
   ],
   "source": [
    "lenet_model.fit(X_train, y_train, epochs=15, batch_size=64)"
   ]
  },
  {
   "cell_type": "code",
   "execution_count": 117,
   "metadata": {},
   "outputs": [
    {
     "name": "stderr",
     "output_type": "stream",
     "text": [
      "WARNING:absl:You are saving your model as an HDF5 file via `model.save()` or `keras.saving.save_model(model)`. This file format is considered legacy. We recommend using instead the native Keras format, e.g. `model.save('my_model.keras')` or `keras.saving.save_model(model, 'my_model.keras')`. \n"
     ]
    }
   ],
   "source": [
    "lenet_model.save('./model/traffic_95_acc.h5')"
   ]
  },
  {
   "cell_type": "code",
   "execution_count": 131,
   "metadata": {},
   "outputs": [
    {
     "name": "stdout",
     "output_type": "stream",
     "text": [
      "\u001b[1m250/250\u001b[0m \u001b[32m━━━━━━━━━━━━━━━━━━━━\u001b[0m\u001b[37m\u001b[0m \u001b[1m1s\u001b[0m 5ms/step\n"
     ]
    }
   ],
   "source": [
    "y_pred = lenet_model.predict(X_test)\n",
    "predictions = [np.argmax(pred) for pred in y_pred]"
   ]
  },
  {
   "cell_type": "code",
   "execution_count": 137,
   "metadata": {},
   "outputs": [
    {
     "name": "stdout",
     "output_type": "stream",
     "text": [
      "MSE:  3.2254754754754753\n",
      "Confusion matrix:  [[ 34   0   0 ...   0   0   0]\n",
      " [  2 445  19 ...   0   0   0]\n",
      " [  0   6 407 ...   0   0   0]\n",
      " ...\n",
      " [  0   1   0 ...  71   0   0]\n",
      " [  0   0   0 ...   0  59   0]\n",
      " [  0   0   0 ...   0   0  46]]\n"
     ]
    }
   ],
   "source": [
    "print(\"MSE: \", mean_squared_error(y_test, predictions))\n",
    "print(\"Confusion matrix: \", confusion_matrix(y_test, predictions))"
   ]
  },
  {
   "cell_type": "code",
   "execution_count": 138,
   "metadata": {},
   "outputs": [
    {
     "name": "stdout",
     "output_type": "stream",
     "text": [
      "              precision    recall  f1-score   support\n",
      "\n",
      "           0       0.92      1.00      0.96        34\n",
      "           1       0.97      0.93      0.95       476\n",
      "           2       0.92      0.96      0.94       422\n",
      "           3       0.92      0.90      0.91       286\n",
      "           4       0.99      0.94      0.96       379\n",
      "           5       0.91      0.87      0.89       423\n",
      "           6       0.98      0.99      0.98        88\n",
      "           7       0.83      0.97      0.89       268\n",
      "           8       0.92      0.91      0.92       282\n",
      "           9       0.98      0.99      0.99       287\n",
      "          10       0.98      0.99      0.98       420\n",
      "          11       0.98      0.98      0.98       263\n",
      "          12       1.00      1.00      1.00       424\n",
      "          13       0.99      0.99      0.99       411\n",
      "          14       0.99      0.99      0.99       166\n",
      "          15       1.00      0.97      0.98       121\n",
      "          16       0.98      1.00      0.99        99\n",
      "          17       0.99      0.98      0.99       218\n",
      "          18       0.95      0.97      0.96       214\n",
      "          19       0.93      0.89      0.91        46\n",
      "          20       0.92      0.89      0.90        74\n",
      "          21       0.89      0.99      0.94        82\n",
      "          22       0.98      0.90      0.94        91\n",
      "          23       0.98      0.92      0.95       117\n",
      "          24       0.97      0.85      0.90        66\n",
      "          25       0.97      0.98      0.98       305\n",
      "          26       0.89      0.93      0.91       124\n",
      "          27       0.87      0.93      0.90        58\n",
      "          28       0.91      0.93      0.92       113\n",
      "          29       0.92      0.96      0.94        51\n",
      "          30       0.94      0.92      0.93        83\n",
      "          31       0.98      0.99      0.98       166\n",
      "          32       0.96      0.83      0.89        52\n",
      "          33       0.93      0.99      0.96       144\n",
      "          34       0.93      0.94      0.94        90\n",
      "          35       0.97      0.97      0.97       230\n",
      "          36       0.97      0.88      0.92        81\n",
      "          37       0.82      0.98      0.89        46\n",
      "          38       1.00      0.99      1.00       420\n",
      "          39       0.97      1.00      0.99        74\n",
      "          40       0.99      0.83      0.90        86\n",
      "          41       0.97      0.94      0.95        63\n",
      "          42       0.96      0.94      0.95        49\n",
      "\n",
      "    accuracy                           0.96      7992\n",
      "   macro avg       0.95      0.95      0.95      7992\n",
      "weighted avg       0.96      0.96      0.96      7992\n",
      "\n"
     ]
    }
   ],
   "source": [
    "print(classification_report(y_test, predictions))"
   ]
  }
 ],
 "metadata": {
  "kernelspec": {
   "display_name": ".venv",
   "language": "python",
   "name": "python3"
  },
  "language_info": {
   "codemirror_mode": {
    "name": "ipython",
    "version": 3
   },
   "file_extension": ".py",
   "mimetype": "text/x-python",
   "name": "python",
   "nbconvert_exporter": "python",
   "pygments_lexer": "ipython3",
   "version": "3.11.1"
  }
 },
 "nbformat": 4,
 "nbformat_minor": 2
}
